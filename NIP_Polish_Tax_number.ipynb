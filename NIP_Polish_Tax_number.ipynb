{
 "cells": [
  {
   "cell_type": "markdown",
   "id": "5c000854-5bce-4269-8b9a-9ff752679e4f",
   "metadata": {},
   "source": [
    "# NIP-Polish-Tax-Number\n"
   ]
  },
  {
   "cell_type": "markdown",
   "id": "a4d6e2fd-9846-4f11-9232-bae7cda7d992",
   "metadata": {},
   "source": [
    "<b>Source website<b>: http://bnip.pl/"
   ]
  },
  {
   "cell_type": "code",
   "execution_count": 11,
   "id": "cfa60367-ff8e-4be7-94f8-e1f0a0669376",
   "metadata": {},
   "outputs": [],
   "source": [
    "import pandas as pd\n",
    "import requests\n",
    "from bs4 import BeautifulSoup\n",
    "import re"
   ]
  },
  {
   "cell_type": "markdown",
   "id": "17a95553-afc2-4deb-83fb-8d46abd32bd0",
   "metadata": {},
   "source": [
    "## Control panel"
   ]
  },
  {
   "attachments": {
    "f18d6178-19ea-481e-bdab-61a87f43c9a3.png": {
     "image/png": "[encoded data removed]"
    }
   },
   "cell_type": "markdown",
   "id": "5f06d41a-a085-4bb0-98f1-dd422708dee6",
   "metadata": {},
   "source": [
    "![Image1.png](attachment:f18d6178-19ea-481e-bdab-61a87f43c9a3.png)"
   ]
  },
  {
   "cell_type": "markdown",
   "id": "632a5c8f-5a47-42fe-b335-fa5b5f7838a2",
   "metadata": {},
   "source": [
    "> <b>Enter your chosen page names:<b>"
   ]
  },
  {
   "cell_type": "code",
   "execution_count": 12,
   "id": "b55aec71-5402-4286-a8c6-c79d0e2f7a0f",
   "metadata": {},
   "outputs": [],
   "source": [
    "# Define page/pages:\n",
    "pages = ['X']"
   ]
  },
  {
   "cell_type": "code",
   "execution_count": 13,
   "id": "94c90d8c-dfec-4b4f-ac0f-a0898a2af025",
   "metadata": {},
   "outputs": [
    {
     "data": {
      "text/plain": [
       "['X']"
      ]
     },
     "execution_count": 13,
     "metadata": {},
     "output_type": "execute_result"
    }
   ],
   "source": [
    "# Format to string\n",
    "pages= [str(item) for item in pages]\n",
    "pages"
   ]
  },
  {
   "cell_type": "markdown",
   "id": "b6fef92a-14c2-4f0a-9654-bd8ca12eda0a",
   "metadata": {},
   "source": [
    "## Webscraper"
   ]
  },
  {
   "cell_type": "code",
   "execution_count": 38,
   "id": "d64d8c3f-042d-42ad-807c-55fe065c4e40",
   "metadata": {
    "scrolled": true
   },
   "outputs": [
    {
     "name": "stdout",
     "output_type": "stream",
     "text": [
      "Processing: (X, page 1 of 14)\n",
      "Processing: (X, page 2 of 14)\n",
      "Processing: (X, page 3 of 14)\n",
      "Processing: (X, page 4 of 14)\n",
      "Processing: (X, page 5 of 14)\n",
      "Processing: (X, page 6 of 14)\n",
      "Processing: (X, page 7 of 14)\n",
      "Processing: (X, page 8 of 14)\n",
      "Processing: (X, page 9 of 14)\n",
      "Processing: (X, page 10 of 14)\n",
      "Processing: (X, page 11 of 14)\n",
      "Processing: (X, page 12 of 14)\n",
      "Processing: (X, page 13 of 14)\n",
      "Processing: (X, page 14 of 14)\n"
     ]
    }
   ],
   "source": [
    "def scrape_detailed_info(session, url):\n",
    "    \"Detailed information from the page. - scraper\"\n",
    "    response = session.get(url)\n",
    "    if response.encoding != 'ISO-8859-2':\n",
    "        response.encoding = 'ISO-8859-2'\n",
    "    if response.status_code == 200:\n",
    "        soup = BeautifulSoup(response.text, 'html.parser')\n",
    "        all_h1 = soup.find_all('h1')\n",
    "        if len(all_h1) >= 1:\n",
    "            company_name = all_h1[1].text.strip()\n",
    "        else:\n",
    "            company_name = \"Company name not found\"\n",
    "        \n",
    "        # Modification \n",
    "        company_name = company_name.replace('£', 'Ł').replace('¦', 'Ż').replace('¡', 'Ó').replace('³', 'ł')\n",
    "        nip = soup.find('h2').text.strip()\n",
    "        adres_element = soup.find('h2').find_next_siblings(text=True)\n",
    "        adres = ''.join(adres_element).strip()\n",
    "        return company_name, nip, adres\n",
    "    else:\n",
    "        return \"Website download error\", \"\", \"\"\n",
    "\n",
    "# HTTP session initialization\n",
    "session = requests.Session()\n",
    "\n",
    "# DataFrame initialization\n",
    "full_df = pd.DataFrame()\n",
    "\n",
    "\n",
    "for item in pages:\n",
    "    base_url = f'http://bnip.pl/nip,indexa,{item},{{}}.html'\n",
    "    max_pages = None\n",
    "    response = session.get(base_url.format(1))\n",
    "    if response.status_code == 200:\n",
    "        soup = BeautifulSoup(response.text, 'html.parser')\n",
    "        p_elements = soup.find_all('p')\n",
    "        for p in p_elements:\n",
    "            matches = re.findall(r'(\\d+)\\<', p.text)\n",
    "            if matches:\n",
    "                max_pages = int(matches[-1])\n",
    "    max_pages = max_pages or 1\n",
    "\n",
    "    for page_number in range(1, max_pages + 1):\n",
    "        # Information about the regular page\n",
    "        print(f\"Processing: ({item}, page {page_number} of {max_pages})\")\n",
    "        url = base_url.format(page_number)\n",
    "        response = session.get(url)\n",
    "        if response.status_code == 200:\n",
    "            soup = BeautifulSoup(response.text, 'html.parser')\n",
    "            table = soup.find('table')\n",
    "            if table:\n",
    "                df = pd.read_html(str(table))[0]\n",
    "                links = ['http://bnip.pl/' + a['href'] for a in soup.find_all('a', href=True) if 'a,nip,' in a['href']]\n",
    "                df['Link'] = links[:len(df)]\n",
    "                full_df = pd.concat([full_df, df], ignore_index=True)\n",
    "\n",
    "for row in full_df.itertuples():\n",
    "    url = getattr(row, 'Link')\n",
    "    company_name, nip, adres = scrape_detailed_info(session, url)\n",
    "\n",
    "    full_df.at[row.Index, 'Nazwa Firmy'] = company_name\n",
    "    full_df.at[row.Index, 'NIP'] = nip\n",
    "    full_df.at[row.Index, 'Adres'] = adres\n",
    "\n",
    "full_df = full_df[['NIP', 'Link', 'Nazwa Firmy', 'Adres']]\n",
    "# Close session\n",
    "session.close()\n"
   ]
  },
  {
   "cell_type": "code",
   "execution_count": 39,
   "id": "5ba41972-369b-40cb-9beb-9f1c6ed037ac",
   "metadata": {},
   "outputs": [
    {
     "data": {
      "text/html": [
       "<div>\n",
       "<style scoped>\n",
       "    .dataframe tbody tr th:only-of-type {\n",
       "        vertical-align: middle;\n",
       "    }\n",
       "\n",
       "    .dataframe tbody tr th {\n",
       "        vertical-align: top;\n",
       "    }\n",
       "\n",
       "    .dataframe thead th {\n",
       "        text-align: right;\n",
       "    }\n",
       "</style>\n",
       "<table border=\"1\" class=\"dataframe\">\n",
       "  <thead>\n",
       "    <tr style=\"text-align: right;\">\n",
       "      <th></th>\n",
       "      <th>NIP</th>\n",
       "      <th>Link</th>\n",
       "      <th>Nazwa Firmy</th>\n",
       "      <th>Adres</th>\n",
       "    </tr>\n",
       "  </thead>\n",
       "  <tbody>\n",
       "    <tr>\n",
       "      <th>0</th>\n",
       "      <td>NIP: 1010008104</td>\n",
       "      <td>http://bnip.pl/a,nip,744685.html</td>\n",
       "      <td>XL CATLIN SERVICES SE SPÓŁKA EUROPEJSKA ODDZIA...</td>\n",
       "      <td>ul. Kazimierza Wielkiego 3\\n50-077 Wrocław</td>\n",
       "    </tr>\n",
       "    <tr>\n",
       "      <th>1</th>\n",
       "      <td>NIP: 1070008467</td>\n",
       "      <td>http://bnip.pl/a,nip,116984.html</td>\n",
       "      <td>XL TRADING SPÓŁKA Z OGRANICZONĄ ODPOWIEDZIALNO...</td>\n",
       "      <td>ul. Nadrzeczna 3 B       /B-7\\n05-552 Wólka Ko...</td>\n",
       "    </tr>\n",
       "    <tr>\n",
       "      <th>2</th>\n",
       "      <td>NIP: 1080000355</td>\n",
       "      <td>http://bnip.pl/a,nip,77506.html</td>\n",
       "      <td>XL INSURANCE SPÓŁKA AKCYJNA ODDZIAŁ W POLSCE W...</td>\n",
       "      <td>ul. Nowy Świat 64\\n00-357 Warszawa</td>\n",
       "    </tr>\n",
       "    <tr>\n",
       "      <th>3</th>\n",
       "      <td>NIP: 1130012083</td>\n",
       "      <td>http://bnip.pl/a,nip,272390.html</td>\n",
       "      <td>XSEMONA JULITA GISZ</td>\n",
       "      <td>20/2\\n05-462 Radiówek</td>\n",
       "    </tr>\n",
       "    <tr>\n",
       "      <th>4</th>\n",
       "      <td>NIP: 1130017229</td>\n",
       "      <td>http://bnip.pl/a,nip,42717.html</td>\n",
       "      <td>XP SPÓŁKA Z OGRANICZONĄ ODPOWIEDZIALNOŚCIĄ</td>\n",
       "      <td>ul. Belgradzka\\n02-793 Warszawa</td>\n",
       "    </tr>\n",
       "    <tr>\n",
       "      <th>...</th>\n",
       "      <td>...</td>\n",
       "      <td>...</td>\n",
       "      <td>...</td>\n",
       "      <td>...</td>\n",
       "    </tr>\n",
       "    <tr>\n",
       "      <th>680</th>\n",
       "      <td>NIP: 9730544438</td>\n",
       "      <td>http://bnip.pl/a,nip,332349.html</td>\n",
       "      <td>XPERTS INŻ. SŁAWOMIR ŁADA</td>\n",
       "      <td>ul. Trasa Północna 12h\\n65-119 Zielona Góra</td>\n",
       "    </tr>\n",
       "    <tr>\n",
       "      <th>681</th>\n",
       "      <td>NIP: 9730825516</td>\n",
       "      <td>http://bnip.pl/a,nip,686361.html</td>\n",
       "      <td>XSEOX MARKETING ADAM KWIATKOWSKI</td>\n",
       "      <td>ul. Lipowa 27\\n55-040 Królikowice</td>\n",
       "    </tr>\n",
       "    <tr>\n",
       "      <th>682</th>\n",
       "      <td>NIP: 9731071321</td>\n",
       "      <td>http://bnip.pl/a,nip,695998.html</td>\n",
       "      <td>XRS GROUP SPÓŁKA Z OGRANICZONĄ ODPOWIEDZIALNOŚCIĄ</td>\n",
       "      <td>ul. Poznańska 18A\\n65-137 Zielona Góra</td>\n",
       "    </tr>\n",
       "    <tr>\n",
       "      <th>683</th>\n",
       "      <td>NIP: 9910435805</td>\n",
       "      <td>http://bnip.pl/a,nip,581864.html</td>\n",
       "      <td>XYZ Media Magdalena NOWAK</td>\n",
       "      <td>ul. Augustyna Kośnego 38/11\\n45-056 Opole</td>\n",
       "    </tr>\n",
       "    <tr>\n",
       "      <th>684</th>\n",
       "      <td>NIP: 9930692385</td>\n",
       "      <td>http://bnip.pl/a,nip,837075.html</td>\n",
       "      <td>XBP BARTOSZ PODLASIEWICZ</td>\n",
       "      <td></td>\n",
       "    </tr>\n",
       "  </tbody>\n",
       "</table>\n",
       "<p>685 rows × 4 columns</p>\n",
       "</div>"
      ],
      "text/plain": [
       "                 NIP                              Link  \\\n",
       "0    NIP: 1010008104  http://bnip.pl/a,nip,744685.html   \n",
       "1    NIP: 1070008467  http://bnip.pl/a,nip,116984.html   \n",
       "2    NIP: 1080000355   http://bnip.pl/a,nip,77506.html   \n",
       "3    NIP: 1130012083  http://bnip.pl/a,nip,272390.html   \n",
       "4    NIP: 1130017229   http://bnip.pl/a,nip,42717.html   \n",
       "..               ...                               ...   \n",
       "680  NIP: 9730544438  http://bnip.pl/a,nip,332349.html   \n",
       "681  NIP: 9730825516  http://bnip.pl/a,nip,686361.html   \n",
       "682  NIP: 9731071321  http://bnip.pl/a,nip,695998.html   \n",
       "683  NIP: 9910435805  http://bnip.pl/a,nip,581864.html   \n",
       "684  NIP: 9930692385  http://bnip.pl/a,nip,837075.html   \n",
       "\n",
       "                                           Nazwa Firmy  \\\n",
       "0    XL CATLIN SERVICES SE SPÓŁKA EUROPEJSKA ODDZIA...   \n",
       "1    XL TRADING SPÓŁKA Z OGRANICZONĄ ODPOWIEDZIALNO...   \n",
       "2    XL INSURANCE SPÓŁKA AKCYJNA ODDZIAŁ W POLSCE W...   \n",
       "3                                  XSEMONA JULITA GISZ   \n",
       "4           XP SPÓŁKA Z OGRANICZONĄ ODPOWIEDZIALNOŚCIĄ   \n",
       "..                                                 ...   \n",
       "680                          XPERTS INŻ. SŁAWOMIR ŁADA   \n",
       "681                   XSEOX MARKETING ADAM KWIATKOWSKI   \n",
       "682  XRS GROUP SPÓŁKA Z OGRANICZONĄ ODPOWIEDZIALNOŚCIĄ   \n",
       "683                          XYZ Media Magdalena NOWAK   \n",
       "684                           XBP BARTOSZ PODLASIEWICZ   \n",
       "\n",
       "                                                 Adres  \n",
       "0           ul. Kazimierza Wielkiego 3\\n50-077 Wrocław  \n",
       "1    ul. Nadrzeczna 3 B       /B-7\\n05-552 Wólka Ko...  \n",
       "2                   ul. Nowy Świat 64\\n00-357 Warszawa  \n",
       "3                                20/2\\n05-462 Radiówek  \n",
       "4                      ul. Belgradzka\\n02-793 Warszawa  \n",
       "..                                                 ...  \n",
       "680        ul. Trasa Północna 12h\\n65-119 Zielona Góra  \n",
       "681                  ul. Lipowa 27\\n55-040 Królikowice  \n",
       "682             ul. Poznańska 18A\\n65-137 Zielona Góra  \n",
       "683          ul. Augustyna Kośnego 38/11\\n45-056 Opole  \n",
       "684                                                     \n",
       "\n",
       "[685 rows x 4 columns]"
      ]
     },
     "execution_count": 39,
     "metadata": {},
     "output_type": "execute_result"
    }
   ],
   "source": [
    "full_df"
   ]
  },
  {
   "cell_type": "markdown",
   "id": "2d35e453-cd87-4db1-8928-a67ec236f5bf",
   "metadata": {},
   "source": [
    "# Output"
   ]
  },
  {
   "cell_type": "markdown",
   "id": "dc6105dc-9d51-41ac-8a0a-4246078f68f6",
   "metadata": {},
   "source": [
    "> <b>Save to Excel or CSV<b>"
   ]
  },
  {
   "cell_type": "code",
   "execution_count": null,
   "id": "7f4df724-3c5e-4900-a42c-8b33a1cc2f5b",
   "metadata": {},
   "outputs": [],
   "source": [
    "full_df.to_excel(\"NIP.xlsx\")"
   ]
  },
  {
   "cell_type": "code",
   "execution_count": 40,
   "id": "8a378217-f140-4cb0-97a2-69723088a289",
   "metadata": {},
   "outputs": [],
   "source": [
    "full_df.to_csv(\"NIP.csv\")"
   ]
  },
  {
   "cell_type": "code",
   "execution_count": null,
   "id": "bb2f48f0-e94d-45e4-ad03-633feea262b0",
   "metadata": {},
   "outputs": [],
   "source": []
  }
 ],
 "metadata": {
  "kernelspec": {
   "display_name": "Python 3 (ipykernel)",
   "language": "python",
   "name": "python3"
  },
  "language_info": {
   "codemirror_mode": {
    "name": "ipython",
    "version": 3
   },
   "file_extension": ".py",
   "mimetype": "text/x-python",
   "name": "python",
   "nbconvert_exporter": "python",
   "pygments_lexer": "ipython3",
   "version": "3.9.12"
  }
 },
 "nbformat": 4,
 "nbformat_minor": 5
}
